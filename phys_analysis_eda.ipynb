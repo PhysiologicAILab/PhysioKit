{
 "cells": [
  {
   "attachments": {},
   "cell_type": "markdown",
   "metadata": {},
   "source": [
    "# EDA Signal Analysis"
   ]
  },
  {
   "cell_type": "markdown",
   "metadata": {},
   "source": [
    "### Import packages"
   ]
  },
  {
   "cell_type": "code",
   "execution_count": null,
   "metadata": {},
   "outputs": [],
   "source": [
    "import neurokit2 as nk\n",
    "import os\n",
    "import numpy as np\n",
    "import csv\n",
    "import matplotlib.pyplot as plt\n",
    "from utils.load_data import load_csv_data_eda\n",
    "\n",
    "%matplotlib inline\n",
    "# %matplotlib tk\n"
   ]
  },
  {
   "cell_type": "markdown",
   "metadata": {},
   "source": [
    "### Specify data path and initialize variables"
   ]
  },
  {
   "cell_type": "code",
   "execution_count": null,
   "metadata": {},
   "outputs": [],
   "source": [
    "sampling_rate = 250.0\n",
    "data_path = r'sample_data/'\n",
    "filepath = os.path.join(data_path, 'P1_S1_baseline_1674758272_855629.csv')\n"
   ]
  },
  {
   "attachments": {},
   "cell_type": "markdown",
   "metadata": {},
   "source": [
    "### Load the data"
   ]
  },
  {
   "cell_type": "code",
   "execution_count": null,
   "metadata": {},
   "outputs": [],
   "source": [
    "\n",
    "eda, event_code = load_csv_data_eda(filepath)"
   ]
  },
  {
   "cell_type": "code",
   "execution_count": null,
   "metadata": {},
   "outputs": [],
   "source": [
    "time_axis = np.arange(len(eda))/sampling_rate\n",
    "plt.plot(time_axis, eda, 'g')\n",
    "plt.plot(time_axis[event_code != -1], eda[event_code != -1], 'ro', markersize=2)\n",
    "plt.xlabel(\"Time (seconds)\")\n",
    "plt.ylabel(\"Signal Amplitude\")\n"
   ]
  },
  {
   "cell_type": "code",
   "execution_count": null,
   "metadata": {},
   "outputs": [],
   "source": [
    "start_time = 30\n",
    "end_time = 120\n",
    "sts = int(start_time * sampling_rate)\n",
    "ends = int(end_time * sampling_rate)\n",
    "eda = eda[sts:ends]\n",
    "time_axis = time_axis[sts:ends]\n",
    "event_code = event_code[sts:ends]\n",
    "\n",
    "plt.plot(time_axis, eda, 'g')\n",
    "plt.plot(time_axis[event_code != -1], eda[event_code != -1], 'ro', markersize=2)\n",
    "plt.xlabel(\"Time (seconds)\")\n",
    "plt.ylabel(\"Signal Amplitude\")"
   ]
  },
  {
   "attachments": {},
   "cell_type": "markdown",
   "metadata": {},
   "source": [
    "***\n",
    "### Process EDA Signal\n",
    "***"
   ]
  },
  {
   "cell_type": "code",
   "execution_count": null,
   "metadata": {},
   "outputs": [],
   "source": [
    "signals, info = nk.eda_process(eda, sampling_rate=sampling_rate)\n",
    "# Extract clean EDA and SCR features\n",
    "cleaned = signals[\"EDA_Clean\"]\n",
    "features = [info[\"SCR_Onsets\"], info[\"SCR_Peaks\"], info[\"SCR_Recovery\"]]"
   ]
  },
  {
   "cell_type": "code",
   "execution_count": null,
   "metadata": {},
   "outputs": [],
   "source": [
    "# Plot EDA signal\n",
    "nk.eda_plot(signals)"
   ]
  },
  {
   "cell_type": "code",
   "execution_count": null,
   "metadata": {},
   "outputs": [],
   "source": []
  }
 ],
 "metadata": {
  "kernelspec": {
   "display_name": "dev",
   "language": "python",
   "name": "python3"
  },
  "language_info": {
   "codemirror_mode": {
    "name": "ipython",
    "version": 3
   },
   "file_extension": ".py",
   "mimetype": "text/x-python",
   "name": "python",
   "nbconvert_exporter": "python",
   "pygments_lexer": "ipython3",
   "version": "3.11.2"
  },
  "orig_nbformat": 4,
  "vscode": {
   "interpreter": {
    "hash": "5f2293f5bd1190f78479496af8df342d1545b9860b8f981f5904bf004b700f46"
   }
  }
 },
 "nbformat": 4,
 "nbformat_minor": 2
}
