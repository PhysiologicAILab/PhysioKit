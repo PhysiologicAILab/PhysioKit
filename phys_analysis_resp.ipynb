{
 "cells": [
  {
   "attachments": {},
   "cell_type": "markdown",
   "metadata": {},
   "source": [
    "# Respiratory Signal Analysis"
   ]
  },
  {
   "cell_type": "markdown",
   "metadata": {},
   "source": [
    "### Import packages"
   ]
  },
  {
   "cell_type": "code",
   "execution_count": null,
   "metadata": {},
   "outputs": [],
   "source": [
    "import neurokit2 as nk\n",
    "import os\n",
    "import numpy as np\n",
    "from scipy import signal\n",
    "import csv\n",
    "import matplotlib.pyplot as plt\n",
    "from utils.load_data import load_csv_data_resp\n",
    "%matplotlib inline\n",
    "# %matplotlib tk"
   ]
  },
  {
   "cell_type": "markdown",
   "metadata": {},
   "source": [
    "### Specify data path and initialize variables"
   ]
  },
  {
   "cell_type": "code",
   "execution_count": null,
   "metadata": {},
   "outputs": [],
   "source": [
    "sampling_rate = 250.0\n",
    "data_path = r'sample_data/'\n",
    "filepath = os.path.join(data_path, 'P1_S1_baseline_1674758272_855629.csv')\n"
   ]
  },
  {
   "attachments": {},
   "cell_type": "markdown",
   "metadata": {},
   "source": [
    "### Load the data"
   ]
  },
  {
   "cell_type": "code",
   "execution_count": null,
   "metadata": {},
   "outputs": [],
   "source": [
    "resp, event_code = load_csv_data_resp(filepath)"
   ]
  },
  {
   "cell_type": "code",
   "execution_count": null,
   "metadata": {},
   "outputs": [],
   "source": [
    "time_axis = np.arange(len(resp))/sampling_rate\n",
    "plt.plot(time_axis, resp, 'g')\n",
    "plt.plot(time_axis[event_code != -1], resp[event_code != -1], 'ro', markersize=2)\n",
    "plt.xlabel(\"Time (seconds)\")\n",
    "plt.ylabel(\"Signal Amplitude\")\n"
   ]
  },
  {
   "attachments": {},
   "cell_type": "markdown",
   "metadata": {},
   "source": [
    "***\n",
    "### Process Respiratory Signal\n",
    "***"
   ]
  },
  {
   "cell_type": "code",
   "execution_count": null,
   "metadata": {},
   "outputs": [],
   "source": [
    "sos = signal.butter(2, (0.1, 0.5), 'bandpass', fs=sampling_rate, output='sos')\n",
    "filtered_resp = signal.sosfilt(sos, resp)"
   ]
  },
  {
   "cell_type": "code",
   "execution_count": null,
   "metadata": {},
   "outputs": [],
   "source": [
    "# Clean signal\n",
    "cleaned = nk.rsp_clean(filtered_resp, sampling_rate=sampling_rate)\n",
    "\n",
    "# Extract peaks\n",
    "df, peaks_dict = nk.rsp_peaks(cleaned) \n",
    "info = nk.rsp_fixpeaks(peaks_dict)\n",
    "formatted = nk.signal_formatpeaks(info, desired_length=len(cleaned),peak_indices=info[\"RSP_Peaks\"])"
   ]
  },
  {
   "cell_type": "code",
   "execution_count": null,
   "metadata": {},
   "outputs": [],
   "source": [
    "fixed_peaks = nk.events_plot(info['RSP_Peaks'], cleaned)"
   ]
  },
  {
   "cell_type": "code",
   "execution_count": null,
   "metadata": {},
   "outputs": [],
   "source": [
    "# Extract rate\n",
    "rsp_rate = nk.rsp_rate(cleaned, peaks_dict, sampling_rate=sampling_rate)\n",
    "\n",
    "# Visualize\n",
    "nk.signal_plot(rsp_rate, sampling_rate=sampling_rate)\n",
    "plt.ylabel('Breaths Per Minute')"
   ]
  },
  {
   "cell_type": "code",
   "execution_count": null,
   "metadata": {},
   "outputs": [],
   "source": [
    "rrv = nk.rsp_rrv(rsp_rate, info, sampling_rate=sampling_rate, show=True)\n",
    "rrv"
   ]
  }
 ],
 "metadata": {
  "kernelspec": {
   "display_name": "dev",
   "language": "python",
   "name": "python3"
  },
  "language_info": {
   "codemirror_mode": {
    "name": "ipython",
    "version": 3
   },
   "file_extension": ".py",
   "mimetype": "text/x-python",
   "name": "python",
   "nbconvert_exporter": "python",
   "pygments_lexer": "ipython3",
   "version": "3.11.2"
  },
  "orig_nbformat": 4,
  "vscode": {
   "interpreter": {
    "hash": "5f2293f5bd1190f78479496af8df342d1545b9860b8f981f5904bf004b700f46"
   }
  }
 },
 "nbformat": 4,
 "nbformat_minor": 2
}
