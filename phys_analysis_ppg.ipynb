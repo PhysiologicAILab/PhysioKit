{
 "cells": [
  {
   "attachments": {},
   "cell_type": "markdown",
   "metadata": {},
   "source": [
    "# PPG Signal Analysis"
   ]
  },
  {
   "attachments": {},
   "cell_type": "markdown",
   "metadata": {},
   "source": [
    "### Import packages"
   ]
  },
  {
   "cell_type": "code",
   "execution_count": null,
   "metadata": {},
   "outputs": [],
   "source": [
    "import neurokit2 as nk\n",
    "from scipy import signal\n",
    "import scipy.stats as stats\n",
    "import os\n",
    "import numpy as np\n",
    "import csv\n",
    "import matplotlib.pyplot as plt\n",
    "from utils.load_data import load_csv_data_ppg\n",
    "# %matplotlib tk\n",
    "%matplotlib inline\n"
   ]
  },
  {
   "attachments": {},
   "cell_type": "markdown",
   "metadata": {},
   "source": [
    "### Specify data path and initialize variables"
   ]
  },
  {
   "cell_type": "code",
   "execution_count": null,
   "metadata": {},
   "outputs": [],
   "source": [
    "sampling_rate = 250.0\n",
    "data_path = r'sample_data'\n",
    "filepath = os.path.join(data_path, 'P1_S1_baseline_1674758272_855629.csv')"
   ]
  },
  {
   "attachments": {},
   "cell_type": "markdown",
   "metadata": {},
   "source": [
    "### Load Data"
   ]
  },
  {
   "cell_type": "code",
   "execution_count": null,
   "metadata": {},
   "outputs": [],
   "source": [
    "ppg1, ppg2, event_code = load_csv_data_ppg(filepath)"
   ]
  },
  {
   "cell_type": "code",
   "execution_count": null,
   "metadata": {},
   "outputs": [],
   "source": [
    "time_axis = np.arange(len(ppg1))/sampling_rate\n",
    "fig, ax = plt.subplots(2, 1, layout='tight')\n",
    "ax[0].plot(time_axis, ppg1)\n",
    "ax[1].plot(time_axis, ppg2)"
   ]
  },
  {
   "attachments": {},
   "cell_type": "markdown",
   "metadata": {},
   "source": [
    "### Resample the signal utilizing arduino_ts - interpolate"
   ]
  },
  {
   "cell_type": "code",
   "execution_count": null,
   "metadata": {},
   "outputs": [],
   "source": [
    "# resample the signals here"
   ]
  },
  {
   "attachments": {},
   "cell_type": "markdown",
   "metadata": {},
   "source": [
    "### Signal Filtering and Visualization"
   ]
  },
  {
   "cell_type": "code",
   "execution_count": null,
   "metadata": {},
   "outputs": [],
   "source": [
    "sos = signal.butter(2, (0.5, 5.0), 'bandpass', fs=sampling_rate, output='sos')\n",
    "filtered_ppg1 = signal.sosfilt(sos, ppg1)\n",
    "filtered_ppg2 = signal.sosfilt(sos, ppg2)\n"
   ]
  },
  {
   "cell_type": "code",
   "execution_count": null,
   "metadata": {},
   "outputs": [],
   "source": [
    "fig, ax = plt.subplots(2, 1)\n",
    "ax[0].plot(time_axis, filtered_ppg1, 'g')\n",
    "# plt.plot(arduino_ts[event_code != -1], ppg1[event_code != -1], 'ro', markersize=2)\n",
    "ax[0].set_xlabel(\"Time (seconds)\")\n",
    "ax[0].set_ylabel(\"PPG-Finger\")\n",
    "\n",
    "ax[1].plot(time_axis, filtered_ppg2, 'b')\n",
    "# plt.plot(arduino_ts[event_code != -1], ppg2[event_code != -1], 'ro', markersize=2)\n",
    "ax[1].set_xlabel(\"Time (seconds)\")\n",
    "ax[1].set_ylabel(\"PPG-Ear\")\n"
   ]
  },
  {
   "attachments": {},
   "cell_type": "markdown",
   "metadata": {},
   "source": [
    "### Process PPG Signals - NeuroKit Library"
   ]
  },
  {
   "cell_type": "code",
   "execution_count": null,
   "metadata": {},
   "outputs": [],
   "source": [
    "signals1, info1 = nk.ppg_process(filtered_ppg1, sampling_rate=sampling_rate)\n",
    "plt.plot(np.arange(0, len(signals1['PPG_Clean'])/sampling_rate, 1/sampling_rate), signals1['PPG_Clean'])\n",
    "plt.plot(info1['PPG_Peaks']/sampling_rate, signals1['PPG_Clean'][info1['PPG_Peaks']], 'go')\n",
    "plt.xlabel(\"Time (seconds)\")\n",
    "plt.ylabel(\"Normalized Signal Amplitude\")"
   ]
  },
  {
   "cell_type": "code",
   "execution_count": null,
   "metadata": {},
   "outputs": [],
   "source": [
    "signals2, info2 = nk.ppg_process(filtered_ppg2, sampling_rate=sampling_rate)\n",
    "plt.plot(np.arange(0, len(signals2['PPG_Clean'])/sampling_rate, 1/sampling_rate), signals2['PPG_Clean'])\n",
    "plt.plot(info2['PPG_Peaks']/sampling_rate, signals2['PPG_Clean'][info2['PPG_Peaks']], 'go')\n",
    "plt.xlabel(\"Time (seconds)\")\n",
    "plt.ylabel(\"Normalized Signal Amplitude\")"
   ]
  },
  {
   "cell_type": "code",
   "execution_count": null,
   "metadata": {},
   "outputs": [],
   "source": [
    "print(vars(signals1))"
   ]
  },
  {
   "cell_type": "code",
   "execution_count": null,
   "metadata": {},
   "outputs": [],
   "source": [
    "print(info1)"
   ]
  },
  {
   "cell_type": "code",
   "execution_count": null,
   "metadata": {},
   "outputs": [],
   "source": [
    "plt.plot(np.arange(len(signals1['PPG_Rate']))/sampling_rate, signals1['PPG_Rate'], 'b', label='PPG-Finger')\n",
    "plt.plot(np.arange(len(signals2['PPG_Rate']))/sampling_rate, signals2['PPG_Rate'], 'g', label='PPG-Ear')\n",
    "plt.legend()\n",
    "plt.xlabel(\"Time (seconds)\")\n",
    "plt.ylabel(\"Pulse Rate\")\n"
   ]
  },
  {
   "attachments": {},
   "cell_type": "markdown",
   "metadata": {},
   "source": [
    "### Correlation Analysis Between PPG-Finger and PPG-Ear"
   ]
  },
  {
   "cell_type": "code",
   "execution_count": null,
   "metadata": {},
   "outputs": [],
   "source": [
    "r, p = stats.pearsonr(signals1['PPG_Rate'], signals2['PPG_Rate'])\n",
    "print(f\"Computed Pearson r: {r} and p-value: {p}\")\n"
   ]
  },
  {
   "attachments": {},
   "cell_type": "markdown",
   "metadata": {},
   "source": [
    "### HRV Features"
   ]
  },
  {
   "cell_type": "code",
   "execution_count": null,
   "metadata": {},
   "outputs": [],
   "source": [
    "hrv_indices1 = nk.hrv(info1['PPG_Peaks'], sampling_rate=250, show=True)\n"
   ]
  },
  {
   "cell_type": "code",
   "execution_count": null,
   "metadata": {},
   "outputs": [],
   "source": [
    "hrv_indices2 = nk.hrv(info2['PPG_Peaks'], sampling_rate=250, show=True)\n"
   ]
  },
  {
   "cell_type": "code",
   "execution_count": null,
   "metadata": {},
   "outputs": [],
   "source": [
    "for i, nm in enumerate(hrv_indices1):\n",
    "    val1 = hrv_indices1.get(nm)\n",
    "    val2 = hrv_indices2.get(nm)\n",
    "    if (val1.values[0] == val1.values[0]) and (val2.values[0] == val2.values[0]):\n",
    "        print(nm, \"\\t\\t\", val1.values[0], \"\\t\\t\", val2.values[0])\n"
   ]
  },
  {
   "cell_type": "code",
   "execution_count": null,
   "metadata": {},
   "outputs": [],
   "source": []
  }
 ],
 "metadata": {
  "kernelspec": {
   "display_name": "dev",
   "language": "python",
   "name": "python3"
  },
  "language_info": {
   "codemirror_mode": {
    "name": "ipython",
    "version": 3
   },
   "file_extension": ".py",
   "mimetype": "text/x-python",
   "name": "python",
   "nbconvert_exporter": "python",
   "pygments_lexer": "ipython3",
   "version": "3.11.2"
  },
  "orig_nbformat": 4,
  "vscode": {
   "interpreter": {
    "hash": "5f2293f5bd1190f78479496af8df342d1545b9860b8f981f5904bf004b700f46"
   }
  }
 },
 "nbformat": 4,
 "nbformat_minor": 2
}
